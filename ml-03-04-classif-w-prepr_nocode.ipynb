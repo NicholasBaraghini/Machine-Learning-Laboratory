{
 "cells": [
  {
   "cell_type": "markdown",
   "metadata": {},
   "source": [
    "# Preprocessing: transform categorical data\n",
    "by Claudio Sartori\n",
    "\n",
    "In `scikit-learn` the classifiers require numeric data. The library makes available a set of preprocessing fuctions which help the transformation. This exercise proposes two types of transformations:\n",
    "\n",
    "- `OneHotEncoder` for purely categorical columns: if the column has **V** distinct values it is substituted by **V** binary columns where in each row only the bit corrosponding to the original value is true\n",
    "- `OrdinalEncoder` for ordinal columns: the original **V** values are mapped into the **0..V-1** range\n",
    "\n",
    "The additional function `ColumnTransformer` allows to apply the different transformations to the appropriate columns with a single statement.\n",
    "\n",
    "### To do:\n",
    "- import the appropriate names\n",
    "- set the random state\n",
    "- import the data set with the appropriate column names\n",
    "- inspect the content and the data types\n",
    "- read carefully the `.names` file of the data set, to understand which are the ordinal and categorical data\n",
    "- data cleaning\n",
    "    - the **ordinal transformer** generates a mapping from strings to numbers according to the lexicographic sorting of the strings; in this particular case, the strings indicate numeric subranges, and ranges with one digit constitute exceptions\n",
    "        '5-9' happens to be after '20-25'\n",
    "    - it is necessary to transform '5-9' into '05-09', and the same for other similar cases\n",
    "    - a way to do this is to prepare dictionaries for the translation and use the `.map` function\n",
    "- prepare the lists of the ordinal, categorical and numeric columns\n",
    "- prepare the preprocessor\n",
    "- split the cleaned data into the X and y part\n",
    "- fit_transform the preprocessor and generate the transformed data set\n",
    "- split the transformed data set into train and test\n",
    "- use the same method used for the exercise of 19/11 to test several classifiers"
   ]
  },
  {
   "cell_type": "code",
   "execution_count": 1,
   "metadata": {},
   "outputs": [
    {
     "name": "stdout",
     "output_type": "stream",
     "text": [
      "\n",
      "http://scikit-learn.org/stable/auto_examples/model_selection/plot_grid_search_digits.html\n",
      "@author: scikit-learn.org and Claudio Sartori\n",
      "\n"
     ]
    }
   ],
   "source": [
    "\"\"\"\n",
    "http://scikit-learn.org/stable/auto_examples/model_selection/plot_grid_search_digits.html\n",
    "@author: scikit-learn.org and Claudio Sartori\n",
    "\"\"\"\n",
    "import warnings\n",
    "warnings.filterwarnings('ignore') # uncomment this line to suppress warnings\n",
    "\n",
    "\n",
    "import numpy as np\n",
    "import matplotlib.pyplot as plt\n",
    "import pandas as pd\n",
    "\n",
    "from sklearn.model_selection import train_test_split\n",
    "from sklearn.model_selection import GridSearchCV\n",
    "\n",
    "from sklearn.metrics import classification_report\n",
    "from sklearn.metrics import accuracy_score\n",
    "from sklearn.metrics import confusion_matrix\n",
    "from sklearn.preprocessing import OneHotEncoder, OrdinalEncoder\n",
    "from sklearn.compose import ColumnTransformer\n",
    "\n",
    "from sklearn.svm import SVC\n",
    "from sklearn.linear_model import Perceptron\n",
    "from sklearn.neural_network import MLPClassifier\n",
    "from sklearn.tree import DecisionTreeClassifier\n",
    "from sklearn.naive_bayes import GaussianNB\n",
    "from sklearn.neighbors import KNeighborsClassifier\n",
    "from sklearn.ensemble import RandomForestClassifier, AdaBoostClassifier\n",
    "\n",
    "print(__doc__) # print information included in the triple quotes at the beginning\n",
    "\n",
    "random_state = 42"
   ]
  },
  {
   "cell_type": "code",
   "execution_count": 2,
   "metadata": {},
   "outputs": [
    {
     "data": {
      "text/plain": "                  Class    age menopause tumor-size inv-nodes node-caps  \\\n0  no-recurrence-events  30-39   premeno      30-34       0-2        no   \n1  no-recurrence-events  40-49   premeno      20-24       0-2        no   \n2  no-recurrence-events  40-49   premeno      20-24       0-2        no   \n3  no-recurrence-events  60-69      ge40      15-19       0-2        no   \n4  no-recurrence-events  40-49   premeno        0-4       0-2        no   \n\n   deg-malig breast breast-quad irradiat  \n0          3   left    left_low       no  \n1          2  right    right_up       no  \n2          2   left    left_low       no  \n3          2  right     left_up       no  \n4          2  right   right_low       no  ",
      "text/html": "<div>\n<style scoped>\n    .dataframe tbody tr th:only-of-type {\n        vertical-align: middle;\n    }\n\n    .dataframe tbody tr th {\n        vertical-align: top;\n    }\n\n    .dataframe thead th {\n        text-align: right;\n    }\n</style>\n<table border=\"1\" class=\"dataframe\">\n  <thead>\n    <tr style=\"text-align: right;\">\n      <th></th>\n      <th>Class</th>\n      <th>age</th>\n      <th>menopause</th>\n      <th>tumor-size</th>\n      <th>inv-nodes</th>\n      <th>node-caps</th>\n      <th>deg-malig</th>\n      <th>breast</th>\n      <th>breast-quad</th>\n      <th>irradiat</th>\n    </tr>\n  </thead>\n  <tbody>\n    <tr>\n      <th>0</th>\n      <td>no-recurrence-events</td>\n      <td>30-39</td>\n      <td>premeno</td>\n      <td>30-34</td>\n      <td>0-2</td>\n      <td>no</td>\n      <td>3</td>\n      <td>left</td>\n      <td>left_low</td>\n      <td>no</td>\n    </tr>\n    <tr>\n      <th>1</th>\n      <td>no-recurrence-events</td>\n      <td>40-49</td>\n      <td>premeno</td>\n      <td>20-24</td>\n      <td>0-2</td>\n      <td>no</td>\n      <td>2</td>\n      <td>right</td>\n      <td>right_up</td>\n      <td>no</td>\n    </tr>\n    <tr>\n      <th>2</th>\n      <td>no-recurrence-events</td>\n      <td>40-49</td>\n      <td>premeno</td>\n      <td>20-24</td>\n      <td>0-2</td>\n      <td>no</td>\n      <td>2</td>\n      <td>left</td>\n      <td>left_low</td>\n      <td>no</td>\n    </tr>\n    <tr>\n      <th>3</th>\n      <td>no-recurrence-events</td>\n      <td>60-69</td>\n      <td>ge40</td>\n      <td>15-19</td>\n      <td>0-2</td>\n      <td>no</td>\n      <td>2</td>\n      <td>right</td>\n      <td>left_up</td>\n      <td>no</td>\n    </tr>\n    <tr>\n      <th>4</th>\n      <td>no-recurrence-events</td>\n      <td>40-49</td>\n      <td>premeno</td>\n      <td>0-4</td>\n      <td>0-2</td>\n      <td>no</td>\n      <td>2</td>\n      <td>right</td>\n      <td>right_low</td>\n      <td>no</td>\n    </tr>\n  </tbody>\n</table>\n</div>"
     },
     "execution_count": 2,
     "metadata": {},
     "output_type": "execute_result"
    }
   ],
   "source": [
    "# url = 'diagnosis.data'\n",
    "# names = ['Temp', 'Nau', 'Lum', 'Uri', 'Mic', 'Bur', 'd1', 'd2']\n",
    "# sep = \"\\t\"\n",
    "url = 'breast-cancer.data'\n",
    "names = ['Class','age','menopause','tumor-size','inv-nodes',\n",
    "         'node-caps','deg-malig','breast','breast-quad','irradiat']\n",
    "sep = \",\"\n",
    "\n",
    "df = pd.read_csv(url, names = names, sep=sep)\n",
    "df.head()"
   ]
  },
  {
   "cell_type": "markdown",
   "metadata": {},
   "source": [
    "Show the types of the columns"
   ]
  },
  {
   "cell_type": "code",
   "execution_count": 3,
   "metadata": {},
   "outputs": [
    {
     "name": "stdout",
     "output_type": "stream",
     "text": [
      "Class          object\n",
      "age            object\n",
      "menopause      object\n",
      "tumor-size     object\n",
      "inv-nodes      object\n",
      "node-caps      object\n",
      "deg-malig       int64\n",
      "breast         object\n",
      "breast-quad    object\n",
      "irradiat       object\n",
      "dtype: object\n"
     ]
    }
   ],
   "source": [
    "print(df.dtypes)"
   ]
  },
  {
   "cell_type": "markdown",
   "metadata": {},
   "source": [
    "Clean the column `tumor-size`"
   ]
  },
  {
   "cell_type": "code",
   "execution_count": 4,
   "metadata": {},
   "outputs": [
    {
     "data": {
      "text/plain": "{'30-34': '30-34',\n '20-24': '20-24',\n '15-19': '15-19',\n '0-4': '0-4',\n '25-29': '25-29',\n '50-54': '50-54',\n '10-14': '10-14',\n '40-44': '40-44',\n '35-39': '35-39',\n '5-9': '5-9',\n '45-49': '45-49'}"
     },
     "execution_count": 4,
     "metadata": {},
     "output_type": "execute_result"
    }
   ],
   "source": [
    "tumor_size_dict = dict(zip(list(df['tumor-size'].unique()),list(df['tumor-size'].unique())))\n",
    "tumor_size_dict"
   ]
  },
  {
   "cell_type": "code",
   "execution_count": 5,
   "metadata": {},
   "outputs": [],
   "source": [
    "tumor_size_dict['0-4'] = '00-04'\n",
    "tumor_size_dict['5-9'] = '05-09'"
   ]
  },
  {
   "cell_type": "code",
   "execution_count": 6,
   "metadata": {},
   "outputs": [],
   "source": [
    "df['tumor-size'] = df['tumor-size'].map(tumor_size_dict)\n"
   ]
  },
  {
   "cell_type": "markdown",
   "metadata": {},
   "source": [
    "Clean the column `inv-nodes`"
   ]
  },
  {
   "cell_type": "code",
   "execution_count": 7,
   "metadata": {},
   "outputs": [
    {
     "name": "stdout",
     "output_type": "stream",
     "text": [
      "{'0-2': '0-2', '6-8': '6-8', '9-11': '9-11', '3-5': '3-5', '15-17': '15-17', '12-14': '12-14', '24-26': '24-26'}\n"
     ]
    }
   ],
   "source": [
    "inv_nodes_dict = dict(zip(list(df['inv-nodes'].unique()),list(df['inv-nodes'].unique())))\n",
    "print(inv_nodes_dict)"
   ]
  },
  {
   "cell_type": "code",
   "execution_count": 8,
   "metadata": {},
   "outputs": [],
   "source": [
    "inv_nodes_dict['0-2']  = '00-02'\n",
    "inv_nodes_dict['3-5']  = '03-05'\n",
    "inv_nodes_dict['6-8']  = '06-08'\n",
    "inv_nodes_dict['9-11'] = '09-11'"
   ]
  },
  {
   "cell_type": "code",
   "execution_count": 9,
   "metadata": {},
   "outputs": [],
   "source": [
    "df['inv-nodes'] = df['inv-nodes'].map(inv_nodes_dict)"
   ]
  },
  {
   "cell_type": "markdown",
   "metadata": {},
   "source": [
    "Inspect the data"
   ]
  },
  {
   "cell_type": "code",
   "execution_count": 10,
   "metadata": {},
   "outputs": [
    {
     "data": {
      "text/plain": "                  Class    age menopause tumor-size inv-nodes node-caps  \\\n0  no-recurrence-events  30-39   premeno      30-34     00-02        no   \n1  no-recurrence-events  40-49   premeno      20-24     00-02        no   \n2  no-recurrence-events  40-49   premeno      20-24     00-02        no   \n3  no-recurrence-events  60-69      ge40      15-19     00-02        no   \n4  no-recurrence-events  40-49   premeno      00-04     00-02        no   \n\n   deg-malig breast breast-quad irradiat  \n0          3   left    left_low       no  \n1          2  right    right_up       no  \n2          2   left    left_low       no  \n3          2  right     left_up       no  \n4          2  right   right_low       no  ",
      "text/html": "<div>\n<style scoped>\n    .dataframe tbody tr th:only-of-type {\n        vertical-align: middle;\n    }\n\n    .dataframe tbody tr th {\n        vertical-align: top;\n    }\n\n    .dataframe thead th {\n        text-align: right;\n    }\n</style>\n<table border=\"1\" class=\"dataframe\">\n  <thead>\n    <tr style=\"text-align: right;\">\n      <th></th>\n      <th>Class</th>\n      <th>age</th>\n      <th>menopause</th>\n      <th>tumor-size</th>\n      <th>inv-nodes</th>\n      <th>node-caps</th>\n      <th>deg-malig</th>\n      <th>breast</th>\n      <th>breast-quad</th>\n      <th>irradiat</th>\n    </tr>\n  </thead>\n  <tbody>\n    <tr>\n      <th>0</th>\n      <td>no-recurrence-events</td>\n      <td>30-39</td>\n      <td>premeno</td>\n      <td>30-34</td>\n      <td>00-02</td>\n      <td>no</td>\n      <td>3</td>\n      <td>left</td>\n      <td>left_low</td>\n      <td>no</td>\n    </tr>\n    <tr>\n      <th>1</th>\n      <td>no-recurrence-events</td>\n      <td>40-49</td>\n      <td>premeno</td>\n      <td>20-24</td>\n      <td>00-02</td>\n      <td>no</td>\n      <td>2</td>\n      <td>right</td>\n      <td>right_up</td>\n      <td>no</td>\n    </tr>\n    <tr>\n      <th>2</th>\n      <td>no-recurrence-events</td>\n      <td>40-49</td>\n      <td>premeno</td>\n      <td>20-24</td>\n      <td>00-02</td>\n      <td>no</td>\n      <td>2</td>\n      <td>left</td>\n      <td>left_low</td>\n      <td>no</td>\n    </tr>\n    <tr>\n      <th>3</th>\n      <td>no-recurrence-events</td>\n      <td>60-69</td>\n      <td>ge40</td>\n      <td>15-19</td>\n      <td>00-02</td>\n      <td>no</td>\n      <td>2</td>\n      <td>right</td>\n      <td>left_up</td>\n      <td>no</td>\n    </tr>\n    <tr>\n      <th>4</th>\n      <td>no-recurrence-events</td>\n      <td>40-49</td>\n      <td>premeno</td>\n      <td>00-04</td>\n      <td>00-02</td>\n      <td>no</td>\n      <td>2</td>\n      <td>right</td>\n      <td>right_low</td>\n      <td>no</td>\n    </tr>\n  </tbody>\n</table>\n</div>"
     },
     "execution_count": 10,
     "metadata": {},
     "output_type": "execute_result"
    }
   ],
   "source": [
    "df.head()"
   ]
  },
  {
   "cell_type": "markdown",
   "metadata": {},
   "source": [
    "Prepare the lists of numeric features, ordinal features, categorical features"
   ]
  },
  {
   "cell_type": "code",
   "execution_count": 11,
   "metadata": {},
   "outputs": [
    {
     "name": "stdout",
     "output_type": "stream",
     "text": [
      "['Class' 'age' 'menopause' 'tumor-size' 'inv-nodes' 'node-caps' 'breast'\n",
      " 'breast-quad' 'irradiat']\n"
     ]
    }
   ],
   "source": [
    "non_numerical = df.dtypes.loc[df.dtypes == 'object'].index.values\n",
    "print(non_numerical)"
   ]
  },
  {
   "cell_type": "code",
   "execution_count": 12,
   "metadata": {},
   "outputs": [
    {
     "name": "stdout",
     "output_type": "stream",
     "text": [
      "['deg-malig']\n"
     ]
    }
   ],
   "source": [
    "numeric_features = df.dtypes.loc[df.dtypes != 'object'].index.values;\n",
    "print(numeric_features)"
   ]
  },
  {
   "cell_type": "code",
   "execution_count": 13,
   "metadata": {},
   "outputs": [
    {
     "name": "stdout",
     "output_type": "stream",
     "text": [
      "['age', 'tumor-size', 'inv-nodes']\n"
     ]
    }
   ],
   "source": [
    "ordinal_features =['age', 'tumor-size', 'inv-nodes']\n",
    "print(ordinal_features)"
   ]
  },
  {
   "cell_type": "code",
   "execution_count": 14,
   "metadata": {},
   "outputs": [
    {
     "name": "stdout",
     "output_type": "stream",
     "text": [
      "['menopause', 'breast', 'node-caps', 'irradiat', 'breast-quad']\n"
     ]
    }
   ],
   "source": [
    "categorical_features = list(set(non_numerical)-set(ordinal_features)-set(['Class']))\n",
    "print(categorical_features)"
   ]
  },
  {
   "cell_type": "markdown",
   "metadata": {},
   "source": [
    "Prepare the transformer"
   ]
  },
  {
   "cell_type": "code",
   "execution_count": 15,
   "metadata": {},
   "outputs": [],
   "source": [
    "# transf_dtype = np.float64\n",
    "transf_dtype = np.int32\n",
    "\n",
    "categorical_transformer = OneHotEncoder(handle_unknown='ignore', sparse = False, dtype = transf_dtype)\n",
    "ordinal_transformer = OrdinalEncoder(dtype = transf_dtype)\n",
    "preprocessor = ColumnTransformer(\n",
    "    transformers = [('cat', categorical_transformer, categorical_features),\n",
    "                    ('ord', ordinal_transformer, ordinal_features)\n",
    "                   ],\n",
    "                    remainder = 'passthrough'\n",
    "    )"
   ]
  },
  {
   "cell_type": "markdown",
   "metadata": {},
   "source": [
    "Split X and y and check the shapes"
   ]
  },
  {
   "cell_type": "code",
   "execution_count": 16,
   "metadata": {},
   "outputs": [
    {
     "name": "stdout",
     "output_type": "stream",
     "text": [
      "\n",
      "X shape: (286, 9)\n",
      "Y shape: (286,)\n"
     ]
    }
   ],
   "source": [
    "X = df.drop(['Class'],axis=1);\n",
    "Y = df['Class'];\n",
    "\n",
    "print('\\nX shape: {}\\nY shape: {}'.format(X.shape,Y.shape))"
   ]
  },
  {
   "cell_type": "markdown",
   "metadata": {},
   "source": [
    "Fit the preprocessor with X and check the parameters printing the `.named_transformers_` attribute"
   ]
  },
  {
   "cell_type": "code",
   "execution_count": 17,
   "metadata": {},
   "outputs": [
    {
     "data": {
      "text/plain": "ColumnTransformer(remainder='passthrough',\n                  transformers=[('cat',\n                                 OneHotEncoder(dtype=<class 'numpy.int32'>,\n                                               handle_unknown='ignore',\n                                               sparse=False),\n                                 ['menopause', 'breast', 'node-caps',\n                                  'irradiat', 'breast-quad']),\n                                ('ord',\n                                 OrdinalEncoder(dtype=<class 'numpy.int32'>),\n                                 ['age', 'tumor-size', 'inv-nodes'])])"
     },
     "execution_count": 17,
     "metadata": {},
     "output_type": "execute_result"
    }
   ],
   "source": [
    "preprocessor.fit(X)"
   ]
  },
  {
   "cell_type": "code",
   "execution_count": 18,
   "metadata": {},
   "outputs": [
    {
     "name": "stdout",
     "output_type": "stream",
     "text": [
      "{'cat': OneHotEncoder(dtype=<class 'numpy.int32'>, handle_unknown='ignore',\n",
      "              sparse=False), 'ord': OrdinalEncoder(dtype=<class 'numpy.int32'>), 'remainder': 'passthrough'}\n"
     ]
    }
   ],
   "source": [
    "print(preprocessor.named_transformers_)"
   ]
  },
  {
   "cell_type": "markdown",
   "metadata": {},
   "source": [
    "Fit-transform X and store the result in X_p, check the shape"
   ]
  },
  {
   "cell_type": "code",
   "execution_count": 19,
   "metadata": {},
   "outputs": [],
   "source": [
    "X_p = preprocessor.fit_transform(X)"
   ]
  },
  {
   "cell_type": "code",
   "execution_count": 20,
   "metadata": {},
   "outputs": [
    {
     "name": "stdout",
     "output_type": "stream",
     "text": [
      "(286, 20)\n"
     ]
    }
   ],
   "source": [
    "print(X_p.shape)"
   ]
  },
  {
   "cell_type": "markdown",
   "metadata": {},
   "source": [
    "For ease of inspection transform `X_p` into a data frame `df_p` and inspect it"
   ]
  },
  {
   "cell_type": "code",
   "execution_count": 21,
   "metadata": {},
   "outputs": [
    {
     "data": {
      "text/plain": "   0   1   2   3   4   5   6   7   8   9   10  11  12  13  14  15  16  17  18  \\\n0   0   0   1   1   0   0   1   0   1   0   0   0   1   0   0   0   1   6   0   \n1   0   0   1   0   1   0   1   0   1   0   0   0   0   0   0   1   2   4   0   \n2   0   0   1   1   0   0   1   0   1   0   0   0   1   0   0   0   2   4   0   \n3   1   0   0   0   1   0   1   0   1   0   0   0   0   1   0   0   4   3   0   \n4   0   0   1   0   1   0   1   0   1   0   0   0   0   0   1   0   2   0   0   \n\n   19  \n0   3  \n1   2  \n2   2  \n3   2  \n4   2  ",
      "text/html": "<div>\n<style scoped>\n    .dataframe tbody tr th:only-of-type {\n        vertical-align: middle;\n    }\n\n    .dataframe tbody tr th {\n        vertical-align: top;\n    }\n\n    .dataframe thead th {\n        text-align: right;\n    }\n</style>\n<table border=\"1\" class=\"dataframe\">\n  <thead>\n    <tr style=\"text-align: right;\">\n      <th></th>\n      <th>0</th>\n      <th>1</th>\n      <th>2</th>\n      <th>3</th>\n      <th>4</th>\n      <th>5</th>\n      <th>6</th>\n      <th>7</th>\n      <th>8</th>\n      <th>9</th>\n      <th>10</th>\n      <th>11</th>\n      <th>12</th>\n      <th>13</th>\n      <th>14</th>\n      <th>15</th>\n      <th>16</th>\n      <th>17</th>\n      <th>18</th>\n      <th>19</th>\n    </tr>\n  </thead>\n  <tbody>\n    <tr>\n      <th>0</th>\n      <td>0</td>\n      <td>0</td>\n      <td>1</td>\n      <td>1</td>\n      <td>0</td>\n      <td>0</td>\n      <td>1</td>\n      <td>0</td>\n      <td>1</td>\n      <td>0</td>\n      <td>0</td>\n      <td>0</td>\n      <td>1</td>\n      <td>0</td>\n      <td>0</td>\n      <td>0</td>\n      <td>1</td>\n      <td>6</td>\n      <td>0</td>\n      <td>3</td>\n    </tr>\n    <tr>\n      <th>1</th>\n      <td>0</td>\n      <td>0</td>\n      <td>1</td>\n      <td>0</td>\n      <td>1</td>\n      <td>0</td>\n      <td>1</td>\n      <td>0</td>\n      <td>1</td>\n      <td>0</td>\n      <td>0</td>\n      <td>0</td>\n      <td>0</td>\n      <td>0</td>\n      <td>0</td>\n      <td>1</td>\n      <td>2</td>\n      <td>4</td>\n      <td>0</td>\n      <td>2</td>\n    </tr>\n    <tr>\n      <th>2</th>\n      <td>0</td>\n      <td>0</td>\n      <td>1</td>\n      <td>1</td>\n      <td>0</td>\n      <td>0</td>\n      <td>1</td>\n      <td>0</td>\n      <td>1</td>\n      <td>0</td>\n      <td>0</td>\n      <td>0</td>\n      <td>1</td>\n      <td>0</td>\n      <td>0</td>\n      <td>0</td>\n      <td>2</td>\n      <td>4</td>\n      <td>0</td>\n      <td>2</td>\n    </tr>\n    <tr>\n      <th>3</th>\n      <td>1</td>\n      <td>0</td>\n      <td>0</td>\n      <td>0</td>\n      <td>1</td>\n      <td>0</td>\n      <td>1</td>\n      <td>0</td>\n      <td>1</td>\n      <td>0</td>\n      <td>0</td>\n      <td>0</td>\n      <td>0</td>\n      <td>1</td>\n      <td>0</td>\n      <td>0</td>\n      <td>4</td>\n      <td>3</td>\n      <td>0</td>\n      <td>2</td>\n    </tr>\n    <tr>\n      <th>4</th>\n      <td>0</td>\n      <td>0</td>\n      <td>1</td>\n      <td>0</td>\n      <td>1</td>\n      <td>0</td>\n      <td>1</td>\n      <td>0</td>\n      <td>1</td>\n      <td>0</td>\n      <td>0</td>\n      <td>0</td>\n      <td>0</td>\n      <td>0</td>\n      <td>1</td>\n      <td>0</td>\n      <td>2</td>\n      <td>0</td>\n      <td>0</td>\n      <td>2</td>\n    </tr>\n  </tbody>\n</table>\n</div>"
     },
     "execution_count": 21,
     "metadata": {},
     "output_type": "execute_result"
    }
   ],
   "source": [
    "df_p = pd.DataFrame(X_p)\n",
    "df_p.head()"
   ]
  },
  {
   "cell_type": "code",
   "execution_count": 22,
   "metadata": {},
   "outputs": [
    {
     "name": "stdout",
     "output_type": "stream",
     "text": [
      "<class 'pandas.core.frame.DataFrame'>\n",
      "RangeIndex: 286 entries, 0 to 285\n",
      "Data columns (total 20 columns):\n",
      " #   Column  Non-Null Count  Dtype\n",
      "---  ------  --------------  -----\n",
      " 0   0       286 non-null    int64\n",
      " 1   1       286 non-null    int64\n",
      " 2   2       286 non-null    int64\n",
      " 3   3       286 non-null    int64\n",
      " 4   4       286 non-null    int64\n",
      " 5   5       286 non-null    int64\n",
      " 6   6       286 non-null    int64\n",
      " 7   7       286 non-null    int64\n",
      " 8   8       286 non-null    int64\n",
      " 9   9       286 non-null    int64\n",
      " 10  10      286 non-null    int64\n",
      " 11  11      286 non-null    int64\n",
      " 12  12      286 non-null    int64\n",
      " 13  13      286 non-null    int64\n",
      " 14  14      286 non-null    int64\n",
      " 15  15      286 non-null    int64\n",
      " 16  16      286 non-null    int64\n",
      " 17  17      286 non-null    int64\n",
      " 18  18      286 non-null    int64\n",
      " 19  19      286 non-null    int64\n",
      "dtypes: int64(20)\n",
      "memory usage: 44.8 KB\n"
     ]
    }
   ],
   "source": [
    "df_p.info()"
   ]
  },
  {
   "cell_type": "markdown",
   "metadata": {},
   "source": [
    "The columns in the transformed dataset are generated according to the order you see printing the preprocessor after fitting, therefore the last four columns correspond to `'age', 'tumor-size', 'inv-nodes', 'deg-malig'`.\n",
    "\n",
    "In order to inspect if the translation and check if the mapping is as expected, compare the sorted values of df['tumor-size'] and df_p[17], e.g. comparing the index sequences"
   ]
  },
  {
   "cell_type": "code",
   "execution_count": 23,
   "metadata": {},
   "outputs": [
    {
     "data": {
      "text/plain": "    self  other\n0  30-39      1\n1  40-49      2\n2  40-49      2\n3  60-69      4\n4  40-49      2",
      "text/html": "<div>\n<style scoped>\n    .dataframe tbody tr th:only-of-type {\n        vertical-align: middle;\n    }\n\n    .dataframe tbody tr th {\n        vertical-align: top;\n    }\n\n    .dataframe thead th {\n        text-align: right;\n    }\n</style>\n<table border=\"1\" class=\"dataframe\">\n  <thead>\n    <tr style=\"text-align: right;\">\n      <th></th>\n      <th>self</th>\n      <th>other</th>\n    </tr>\n  </thead>\n  <tbody>\n    <tr>\n      <th>0</th>\n      <td>30-39</td>\n      <td>1</td>\n    </tr>\n    <tr>\n      <th>1</th>\n      <td>40-49</td>\n      <td>2</td>\n    </tr>\n    <tr>\n      <th>2</th>\n      <td>40-49</td>\n      <td>2</td>\n    </tr>\n    <tr>\n      <th>3</th>\n      <td>60-69</td>\n      <td>4</td>\n    </tr>\n    <tr>\n      <th>4</th>\n      <td>40-49</td>\n      <td>2</td>\n    </tr>\n  </tbody>\n</table>\n</div>"
     },
     "execution_count": 23,
     "metadata": {},
     "output_type": "execute_result"
    }
   ],
   "source": [
    "C = df['age'].compare(df_p[16])\n",
    "C.head()"
   ]
  },
  {
   "cell_type": "code",
   "execution_count": 24,
   "outputs": [
    {
     "data": {
      "text/plain": "    self  other\n0  30-34      6\n1  20-24      4\n2  20-24      4\n3  15-19      3\n4  00-04      0",
      "text/html": "<div>\n<style scoped>\n    .dataframe tbody tr th:only-of-type {\n        vertical-align: middle;\n    }\n\n    .dataframe tbody tr th {\n        vertical-align: top;\n    }\n\n    .dataframe thead th {\n        text-align: right;\n    }\n</style>\n<table border=\"1\" class=\"dataframe\">\n  <thead>\n    <tr style=\"text-align: right;\">\n      <th></th>\n      <th>self</th>\n      <th>other</th>\n    </tr>\n  </thead>\n  <tbody>\n    <tr>\n      <th>0</th>\n      <td>30-34</td>\n      <td>6</td>\n    </tr>\n    <tr>\n      <th>1</th>\n      <td>20-24</td>\n      <td>4</td>\n    </tr>\n    <tr>\n      <th>2</th>\n      <td>20-24</td>\n      <td>4</td>\n    </tr>\n    <tr>\n      <th>3</th>\n      <td>15-19</td>\n      <td>3</td>\n    </tr>\n    <tr>\n      <th>4</th>\n      <td>00-04</td>\n      <td>0</td>\n    </tr>\n  </tbody>\n</table>\n</div>"
     },
     "execution_count": 24,
     "metadata": {},
     "output_type": "execute_result"
    }
   ],
   "source": [
    "CC = df['tumor-size'].compare(df_p[17])\n",
    "CC.head()"
   ],
   "metadata": {
    "collapsed": false,
    "pycharm": {
     "name": "#%%\n"
    }
   }
  },
  {
   "cell_type": "code",
   "execution_count": 25,
   "outputs": [
    {
     "data": {
      "text/plain": "    self  other\n0  00-02      0\n1  00-02      0\n2  00-02      0\n3  00-02      0\n4  00-02      0",
      "text/html": "<div>\n<style scoped>\n    .dataframe tbody tr th:only-of-type {\n        vertical-align: middle;\n    }\n\n    .dataframe tbody tr th {\n        vertical-align: top;\n    }\n\n    .dataframe thead th {\n        text-align: right;\n    }\n</style>\n<table border=\"1\" class=\"dataframe\">\n  <thead>\n    <tr style=\"text-align: right;\">\n      <th></th>\n      <th>self</th>\n      <th>other</th>\n    </tr>\n  </thead>\n  <tbody>\n    <tr>\n      <th>0</th>\n      <td>00-02</td>\n      <td>0</td>\n    </tr>\n    <tr>\n      <th>1</th>\n      <td>00-02</td>\n      <td>0</td>\n    </tr>\n    <tr>\n      <th>2</th>\n      <td>00-02</td>\n      <td>0</td>\n    </tr>\n    <tr>\n      <th>3</th>\n      <td>00-02</td>\n      <td>0</td>\n    </tr>\n    <tr>\n      <th>4</th>\n      <td>00-02</td>\n      <td>0</td>\n    </tr>\n  </tbody>\n</table>\n</div>"
     },
     "execution_count": 25,
     "metadata": {},
     "output_type": "execute_result"
    }
   ],
   "source": [
    "CCC = df['inv-nodes'].compare(df_p[18])\n",
    "CCC.head()"
   ],
   "metadata": {
    "collapsed": false,
    "pycharm": {
     "name": "#%%\n"
    }
   }
  },
  {
   "cell_type": "markdown",
   "metadata": {},
   "source": [
    "Train/test split"
   ]
  },
  {
   "cell_type": "code",
   "execution_count": 26,
   "metadata": {},
   "outputs": [
    {
     "name": "stdout",
     "output_type": "stream",
     "text": [
      "\n",
      " training X : (214, 20)\n",
      " testing X : (72, 20)\n",
      " training Y : (214,)\n",
      " testing Y : (72,)\n"
     ]
    }
   ],
   "source": [
    "Xtr, Xts, Ytr, Yts = train_test_split(X_p, Y);\n",
    "\n",
    "print('\\n training X : {}\\n testing X : {}\\n training Y : {}\\n testing Y : {}'.format(Xtr.shape, Xts.shape, Ytr.shape, Yts.shape))"
   ]
  },
  {
   "cell_type": "markdown",
   "metadata": {},
   "source": [
    "Classification and test\n"
   ]
  },
  {
   "cell_type": "code",
   "execution_count": 35,
   "metadata": {},
   "outputs": [],
   "source": [
    "# Set the parameters to be explored by the grid for each classifier\n",
    "tuned_param_dt = [{'max_depth': list(range(1,20))}]\n",
    "tuned_param_nb = [{'var_smoothing': [10, 1, 1e-1, 1e-2, 1e-3, 1e-4, 1e-5, 1e-6, 1e-07, 1e-8, 1e-9, 1e-10]}]\n",
    "tuned_param_lp = [{'early_stopping': [True]}]\n",
    "tuned_param_svc = [{'kernel': ['rbf'],\n",
    "                    'gamma': [1e-3, 1e-4],\n",
    "                    'C': [1, 10, 100, 1000],\n",
    "                    },\n",
    "                    {'kernel': ['linear'],\n",
    "                     'C': [1, 10, 100, 1000],\n",
    "                    },\n",
    "                   ]\n",
    "tuned_param_knn =[{'n_neighbors': [1, 2, 3, 4, 5, 6, 7, 8, 9, 10]}]\n",
    "tuned_param_rfc =[{'max_depth': list(range(1,11))}]\n",
    "tuned_param_ada = [{'learning_rate': [1., 0.1, 0.01, 0.001, 0.0001]}]\n",
    "# set the models to be fitted specifying name, estimator and parameter structure\n",
    "models = {\n",
    "    'dt': {'name': 'Decision Tree',\n",
    "           'estimator': DecisionTreeClassifier(criterion=\"gini\",random_state=0),\n",
    "           'param': tuned_param_dt,\n",
    "          },\n",
    "    'nb': {'name': 'Gaussian Naive Bayes',\n",
    "           'estimator': GaussianNB(),\n",
    "           'param': tuned_param_nb\n",
    "          },\n",
    "    'lp': {'name': 'Linear Perceptron',\n",
    "           'estimator': Perceptron(),\n",
    "           'param': tuned_param_lp,\n",
    "          },\n",
    "    'svc':{'name': 'Support Vector',\n",
    "           'estimator': SVC(),\n",
    "           'param': tuned_param_svc\n",
    "          },\n",
    "    'knn':{'name': 'K Nearest Neighbor',\n",
    "           'estimator': KNeighborsClassifier(),\n",
    "           'param': tuned_param_knn},\n",
    "    'rfc':{'name': 'Random Forest',\n",
    "           'estimator': RandomForestClassifier(),\n",
    "           'param': tuned_param_rfc\n",
    "          },\n",
    "    'ada':{'name': 'Adaboost            ',\n",
    "           'estimator': AdaBoostClassifier(),\n",
    "           'param': tuned_param_ada\n",
    "          }\n",
    "\n",
    "}"
   ]
  },
  {
   "cell_type": "code",
   "execution_count": 36,
   "metadata": {},
   "outputs": [
    {
     "name": "stdout",
     "output_type": "stream",
     "text": [
      "Decision Tree\n",
      "                      precision    recall  f1-score   support\n",
      "\n",
      "no-recurrence-events       0.85      0.78      0.81        58\n",
      "   recurrence-events       0.32      0.43      0.36        14\n",
      "\n",
      "            accuracy                           0.71        72\n",
      "           macro avg       0.58      0.60      0.59        72\n",
      "        weighted avg       0.75      0.71      0.72        72\n",
      "\n",
      "Gaussian Naive Bayes\n",
      "                      precision    recall  f1-score   support\n",
      "\n",
      "no-recurrence-events       0.85      0.88      0.86        58\n",
      "   recurrence-events       0.42      0.36      0.38        14\n",
      "\n",
      "            accuracy                           0.78        72\n",
      "           macro avg       0.63      0.62      0.62        72\n",
      "        weighted avg       0.77      0.78      0.77        72\n",
      "\n",
      "Linear Perceptron\n",
      "                      precision    recall  f1-score   support\n",
      "\n",
      "no-recurrence-events       0.83      0.98      0.90        58\n",
      "   recurrence-events       0.67      0.14      0.24        14\n",
      "\n",
      "            accuracy                           0.82        72\n",
      "           macro avg       0.75      0.56      0.57        72\n",
      "        weighted avg       0.80      0.82      0.77        72\n",
      "\n",
      "Support Vector\n",
      "                      precision    recall  f1-score   support\n",
      "\n",
      "no-recurrence-events       0.85      0.98      0.91        58\n",
      "   recurrence-events       0.80      0.29      0.42        14\n",
      "\n",
      "            accuracy                           0.85        72\n",
      "           macro avg       0.83      0.63      0.67        72\n",
      "        weighted avg       0.84      0.85      0.82        72\n",
      "\n",
      "K Nearest Neighbor\n",
      "                      precision    recall  f1-score   support\n",
      "\n",
      "no-recurrence-events       0.84      0.88      0.86        58\n",
      "   recurrence-events       0.36      0.29      0.32        14\n",
      "\n",
      "            accuracy                           0.76        72\n",
      "           macro avg       0.60      0.58      0.59        72\n",
      "        weighted avg       0.74      0.76      0.75        72\n",
      "\n",
      "Random Forest\n",
      "                      precision    recall  f1-score   support\n",
      "\n",
      "no-recurrence-events       0.84      0.81      0.82        58\n",
      "   recurrence-events       0.31      0.36      0.33        14\n",
      "\n",
      "            accuracy                           0.72        72\n",
      "           macro avg       0.58      0.58      0.58        72\n",
      "        weighted avg       0.74      0.72      0.73        72\n",
      "\n",
      "Adaboost            \n",
      "                      precision    recall  f1-score   support\n",
      "\n",
      "no-recurrence-events       0.84      0.90      0.87        58\n",
      "   recurrence-events       0.40      0.29      0.33        14\n",
      "\n",
      "            accuracy                           0.78        72\n",
      "           macro avg       0.62      0.59      0.60        72\n",
      "        weighted avg       0.75      0.78      0.76        72\n",
      "\n"
     ]
    }
   ],
   "source": [
    "scores = {}\n",
    "for m in models:\n",
    "    print(models[m]['name'])\n",
    "    clf = models[m]['estimator'];\n",
    "    clf.fit(Xtr,Ytr);\n",
    "    Yts_pred = clf.predict(Xts);\n",
    "    scores[m] = accuracy_score(Yts,Yts_pred);\n",
    "    print(classification_report(Yts,Yts_pred))"
   ]
  },
  {
   "cell_type": "code",
   "execution_count": 37,
   "outputs": [
    {
     "name": "stdout",
     "output_type": "stream",
     "text": [
      "{'dt': 0.7083333333333334, 'nb': 0.7777777777777778, 'lp': 0.8194444444444444, 'svc': 0.8472222222222222, 'knn': 0.7638888888888888, 'rfc': 0.7222222222222222, 'ada': 0.7777777777777778}\n"
     ]
    },
    {
     "data": {
      "text/plain": "<Figure size 432x288 with 1 Axes>",
      "image/png": "[encoded data removed]"
     },
     "metadata": {
      "needs_background": "light"
     },
     "output_type": "display_data"
    }
   ],
   "source": [
    "names = list(scores.keys())\n",
    "values = list(scores.values())\n",
    "print(scores)\n",
    "plt.bar(range(len(scores)), values, tick_label=names)\n",
    "plt.show()\n"
   ],
   "metadata": {
    "collapsed": false,
    "pycharm": {
     "name": "#%%\n"
    }
   }
  },
  {
   "cell_type": "code",
   "execution_count": null,
   "outputs": [],
   "source": [],
   "metadata": {
    "collapsed": false,
    "pycharm": {
     "name": "#%%\n"
    }
   }
  }
 ],
 "metadata": {
  "kernelspec": {
   "name": "pycharm-3c77c33e",
   "language": "python",
   "display_name": "PyCharm (Lab on topic 03-04 - Preprocessing-20211118)"
  },
  "language_info": {
   "codemirror_mode": {
    "name": "ipython",
    "version": 3
   },
   "file_extension": ".py",
   "mimetype": "text/x-python",
   "name": "python",
   "nbconvert_exporter": "python",
   "pygments_lexer": "ipython3",
   "version": "3.7.9"
  }
 },
 "nbformat": 4,
 "nbformat_minor": 4
}